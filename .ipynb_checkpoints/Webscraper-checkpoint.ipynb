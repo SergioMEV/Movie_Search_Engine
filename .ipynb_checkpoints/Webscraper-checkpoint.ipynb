{
 "cells": [
  {
   "cell_type": "code",
   "execution_count": 1,
   "id": "861c009a",
   "metadata": {},
   "outputs": [],
   "source": [
    "import re\n",
    "import dash_table as dt\n",
    "import pandas as pd\n",
    "from requests import get\n",
    "from bs4 import BeautifulSoup\n",
    "import numpy as np\n",
    "import requests\n",
    "import plotly.express as px"
   ]
  },
  {
   "cell_type": "markdown",
   "id": "298f5759",
   "metadata": {},
   "source": [
    "# Web Scraper\n",
    "\n",
    "## Reading in page data"
   ]
  },
  {
   "cell_type": "code",
   "execution_count": 2,
   "id": "5e6f3c47",
   "metadata": {},
   "outputs": [],
   "source": [
    "headers = {\"Accept-Language\": \"en-US, en;q=0.5\"}\n",
    "\n",
    "url = \"https://www.imdb.com/search/title/?title_type=feature&ref_=adv_prv\"\n",
    "\n",
    "results = requests.get(url, headers = headers)\n",
    "\n",
    "bsoup = BeautifulSoup(results.text , \"html.parser\")"
   ]
  },
  {
   "cell_type": "markdown",
   "id": "7d8928d0",
   "metadata": {},
   "source": [
    "## Getting data"
   ]
  },
  {
   "cell_type": "code",
   "execution_count": 3,
   "id": "4c14939b",
   "metadata": {},
   "outputs": [],
   "source": [
    "titles = []\n",
    "\n",
    "IMDB_ratings = []\n",
    "\n",
    "ratings = []\n",
    "\n",
    "genres = []\n",
    "\n",
    "runtimes = []\n",
    "\n",
    "notable_figs = []\n",
    "\n",
    "descriptions = []\n",
    "\n",
    "images = []\n",
    "\n",
    "years = []"
   ]
  },
  {
   "cell_type": "markdown",
   "id": "4a177cc5",
   "metadata": {},
   "source": [
    "### Adding elements to lists"
   ]
  },
  {
   "cell_type": "markdown",
   "id": "48e58920",
   "metadata": {},
   "source": [
    "#### First page"
   ]
  },
  {
   "cell_type": "code",
   "execution_count": 4,
   "id": "c06a19e3",
   "metadata": {},
   "outputs": [],
   "source": [
    "movies_divs = bsoup.find_all('div', class_= 'lister-item mode-advanced')\n",
    "\n",
    "for container in movies_divs:\n",
    "\n",
    "    title = container.h3.a.text\n",
    "    titles.append(title)\n",
    "\n",
    "    year = container.find('span', class_ = 'lister-item-year text-muted unbold').text.replace('(','').replace(')','').split()\n",
    "\n",
    "    if len(year) > 1:\n",
    "        years.append(int(year[1]))\n",
    "    elif len(year) == 1:\n",
    "        years.append(int(year[0]))\n",
    "    else:\n",
    "        years.append(None)\n",
    "\n",
    "    rating = container.find('span', class_= 'certificate').text if container.p.find('span', class_='certificate') else 'Not Rated'\n",
    "    ratings.append(rating)\n",
    "\n",
    "    runtime = int(container.find('span', class_= 'runtime').text.strip().replace(\" min\",\"\")) if container.p.find('span', class_='runtime') else None\n",
    "    runtimes.append(runtime)\n",
    "\n",
    "    genre = container.find('span', class_= 'genre').text.strip().replace('\\n','').replace(\" \",'').split(\",\") if container.p.find('span', class_='genre') else ''\n",
    "    genres.append(genre)\n",
    "\n",
    "    imdb_rat = float(container.strong.text) if container.find('strong') else 'N/A'\n",
    "    IMDB_ratings.append(imdb_rat)\n",
    "\n",
    "    stars = container.find('p', class_=\"\").text.strip().replace(\"\\n\",'').replace(\"Director:\",\"\").replace(\"Stars:\",\"\").replace(' ','').split(\"|\", 1)\n",
    "    notable_figs.append(stars)\n",
    "\n",
    "    description = container.find_all('p', class_= \"text-muted\")[1].text.replace(\"\\n\",'').strip()\n",
    "    descriptions.append(description)\n",
    "\n",
    "    img = container.find('img', class_= \"loadlate\")['loadlate']\n",
    "    images.append(img)"
   ]
  },
  {
   "cell_type": "markdown",
   "id": "9b768450",
   "metadata": {},
   "source": [
    "#### The Other Pages"
   ]
  },
  {
   "cell_type": "code",
   "execution_count": 5,
   "id": "eab23041",
   "metadata": {},
   "outputs": [],
   "source": [
    "url2 = \"https://www.imdb.com/search/title/?title_type=feature&\"\n",
    "\n",
    "url4 = \"&ref_=adv_nxt\"\n",
    "\n",
    "i = 0\n",
    "\n",
    "while i < 9000:\n",
    "    url3 = \"start=\" + str(51 + 50 * i)\n",
    "    complete_URL = url2  + url3 + url4\n",
    "    new_results = requests.get(complete_URL, headers = headers)\n",
    "    \n",
    "    bsoup_new = BeautifulSoup(new_results.text , \"html.parser\")\n",
    "\n",
    "    movies_divs_new = bsoup_new.find_all('div', class_= 'lister-item mode-advanced')\n",
    "\n",
    "    for container in movies_divs_new:\n",
    "\n",
    "        title = container.h3.a.text\n",
    "        titles.append(title)\n",
    "\n",
    "        year = container.find('span', class_ = 'lister-item-year text-muted unbold').text.replace('(','').replace(')','').split()\n",
    "\n",
    "        if len(year) > 1:\n",
    "            years.append(int(year[1]))\n",
    "        elif len(year) == 1 and year[0].isnumeric():\n",
    "            years.append(int(year[0]))\n",
    "        else: \n",
    "            years.append('N/A')\n",
    "\n",
    "        rating = container.find('span', class_= 'certificate').text if container.p.find('span', class_='certificate') else 'Not Rated'\n",
    "        ratings.append(rating)\n",
    "\n",
    "        runtime = int(container.find('span', class_= 'runtime').text.strip().replace(\" min\",\"\")) if container.p.find('span', class_='runtime') else None\n",
    "        runtimes.append(runtime)\n",
    "\n",
    "        genre = container.find('span', class_= 'genre').text.strip().replace('\\n','').replace(\" \",'').split(\",\") if container.p.find('span', class_='genre') else ''\n",
    "        genres.append(genre)\n",
    "\n",
    "        imdb_rat = float(container.strong.text) if container.find('strong') else 'N/A'\n",
    "        IMDB_ratings.append(imdb_rat)\n",
    "\n",
    "        stars = container.find('p', class_=\"\").text.strip().replace(\"\\n\",'').replace(\"Director:\",\"\").replace(\"Stars:\",\"\").replace(' ','').split(\"|\", 1)\n",
    "        notable_figs.append(stars)\n",
    "\n",
    "        description = container.find_all('p', class_= \"text-muted\")[1].text.replace(\"\\n\",'').strip()\n",
    "        descriptions.append(description)\n",
    "\n",
    "        img = container.find('img', class_= \"loadlate\")['loadlate']\n",
    "        images.append(img)\n",
    "    \n",
    "    i += 1    "
   ]
  },
  {
   "cell_type": "markdown",
   "id": "0f3c069b",
   "metadata": {},
   "source": [
    "## Creating Data Frame from lists"
   ]
  },
  {
   "cell_type": "code",
   "execution_count": 6,
   "id": "546583ca",
   "metadata": {},
   "outputs": [],
   "source": [
    "df = pd.DataFrame({\n",
    "    'movie': titles,\n",
    "    'year': years,\n",
    "    'rating': ratings,\n",
    "    'runtime': runtimes,\n",
    "    'genres': genres,\n",
    "    'IMDB_rating': IMDB_ratings,\n",
    "    'actors': notable_figs,\n",
    "    'description': descriptions,\n",
    "    'image': images})"
   ]
  },
  {
   "cell_type": "code",
   "execution_count": 7,
   "id": "be15c03d",
   "metadata": {},
   "outputs": [
    {
     "data": {
      "text/plain": [
       "450050"
      ]
     },
     "execution_count": 7,
     "metadata": {},
     "output_type": "execute_result"
    }
   ],
   "source": [
    "len(df)"
   ]
  },
  {
   "cell_type": "markdown",
   "id": "8fd77ce1",
   "metadata": {},
   "source": [
    "### Finding Misc Info"
   ]
  },
  {
   "cell_type": "markdown",
   "id": "ef3c881e",
   "metadata": {},
   "source": [
    "#### Finding Genres"
   ]
  },
  {
   "cell_type": "code",
   "execution_count": 8,
   "id": "e2f3d2ed",
   "metadata": {},
   "outputs": [
    {
     "name": "stdout",
     "output_type": "stream",
     "text": [
      "[{'label': 'Animation', 'value': 'Animation'}, {'label': 'Music', 'value': 'Music'}, {'label': 'Horror', 'value': 'Horror'}, {'label': 'Family', 'value': 'Family'}]\n"
     ]
    }
   ],
   "source": [
    "\n",
    "distinct_genres = set(())\n",
    "\n",
    "for genre in genres:\n",
    "    for x in genre:\n",
    "        distinct_genres.add(x.strip())\n",
    "\n",
    "genre_options = [{'label': n, 'value': n} for n in distinct_genres]\n",
    "\n",
    "print(genre_options[1:5])\n"
   ]
  },
  {
   "cell_type": "markdown",
   "id": "b76826f9",
   "metadata": {},
   "source": [
    "Exporting data\n"
   ]
  },
  {
   "cell_type": "markdown",
   "id": "a698ad1f",
   "metadata": {},
   "source": [
    "### Finding PG Ratings"
   ]
  },
  {
   "cell_type": "code",
   "execution_count": 9,
   "id": "0e62a02c",
   "metadata": {},
   "outputs": [
    {
     "name": "stdout",
     "output_type": "stream",
     "text": [
      "[{'label': 'MA-17', 'value': 'MA-17'}, {'label': 'R', 'value': 'R'}, {'label': 'TV-PG', 'value': 'TV-PG'}, {'label': 'M/PG', 'value': 'M/PG'}, {'label': 'M', 'value': 'M'}, {'label': 'Passed', 'value': 'Passed'}, {'label': 'TV-Y7-FV', 'value': 'TV-Y7-FV'}, {'label': 'T', 'value': 'T'}, {'label': 'Approved', 'value': 'Approved'}, {'label': '12', 'value': '12'}, {'label': 'PG-13', 'value': 'PG-13'}, {'label': 'TV-G', 'value': 'TV-G'}, {'label': '18', 'value': '18'}, {'label': 'GP', 'value': 'GP'}, {'label': 'TV-MA', 'value': 'TV-MA'}, {'label': 'G', 'value': 'G'}, {'label': 'Not Rated', 'value': 'Not Rated'}, {'label': '22', 'value': '22'}, {'label': 'X', 'value': 'X'}, {'label': 'Unrated', 'value': 'Unrated'}, {'label': '15', 'value': '15'}, {'label': 'PG', 'value': 'PG'}, {'label': 'TV-14', 'value': 'TV-14'}, {'label': 'TV-Y7', 'value': 'TV-Y7'}, {'label': 'NC-17', 'value': 'NC-17'}]\n"
     ]
    }
   ],
   "source": [
    "distinct_ratings = set(())\n",
    "\n",
    "for rating in ratings:\n",
    "    distinct_ratings.add(rating)\n",
    "\n",
    "rating_options = [{'label': n, 'value': n} for n in distinct_ratings]\n",
    "\n",
    "print(rating_options)"
   ]
  },
  {
   "cell_type": "markdown",
   "id": "e557e916",
   "metadata": {},
   "source": [
    "## Writing to CSV"
   ]
  },
  {
   "cell_type": "code",
   "execution_count": 10,
   "id": "a2c39fad",
   "metadata": {},
   "outputs": [],
   "source": [
    "df.to_csv(\"data/movies.csv\")"
   ]
  },
  {
   "cell_type": "code",
   "execution_count": 11,
   "id": "3f110b63",
   "metadata": {},
   "outputs": [
    {
     "name": "stderr",
     "output_type": "stream",
     "text": [
      "C:\\Users\\Sergio\\anaconda3\\lib\\site-packages\\pandas\\core\\generic.py:5516: SettingWithCopyWarning: \n",
      "A value is trying to be set on a copy of a slice from a DataFrame.\n",
      "Try using .loc[row_indexer,col_indexer] = value instead\n",
      "\n",
      "See the caveats in the documentation: https://pandas.pydata.org/pandas-docs/stable/user_guide/indexing.html#returning-a-view-versus-a-copy\n",
      "  self[name] = value\n"
     ]
    }
   ],
   "source": [
    "df.year.replace('N/A', None)\n",
    "\n",
    "new_df = df.loc[(df.year != 'N/A') & (df.rating != 'N/A') & (df.IMDB_rating != 'N/A') & pd.notnull(df.runtime)]\n",
    "\n",
    "new_df.year = new_df.year.astype('int64')\n",
    "new_df.IMDB_rating = new_df.IMDB_rating.astype('float64')"
   ]
  },
  {
   "cell_type": "code",
   "execution_count": 12,
   "id": "bd62a2ba",
   "metadata": {},
   "outputs": [
    {
     "data": {
      "application/vnd.plotly.v1+json": {
       "config": {
        "plotlyServerURL": "https://plot.ly"
       },
       "data": [
        {
         "hovertemplate": "year=%{x}<br>IMDB_rating=%{y}<extra></extra>",
         "legendgroup": "",
         "marker": {
          "color": "#636efa",
          "symbol": "circle"
         },
         "mode": "markers",
         "name": "",
         "orientation": "v",
         "showlegend": false,
         "type": "scatter",
         "x": [
          1915,
          1920,
          1921,
          1922,
          1925,
          1926,
          1927,
          1928,
          1929,
          1930,
          1931,
          1932,
          1933,
          1934,
          1935,
          1936,
          1937,
          1938,
          1939,
          1940,
          1941,
          1942,
          1943,
          1944,
          1945,
          1946,
          1947,
          1948,
          1949,
          1950,
          1951,
          1952,
          1953,
          1954,
          1955,
          1956,
          1957,
          1958,
          1959,
          1960,
          1961,
          1962,
          1963,
          1964,
          1965,
          1966,
          1967,
          1968,
          1969,
          1970,
          1971,
          1972,
          1973,
          1974,
          1975,
          1976,
          1977,
          1978,
          1979,
          1980,
          1981,
          1982,
          1983,
          1984,
          1985,
          1986,
          1987,
          1988,
          1989,
          1990,
          1991,
          1992,
          1993,
          1994,
          1995,
          1996,
          1997,
          1998,
          1999,
          2000,
          2001,
          2002,
          2003,
          2004,
          2005,
          2006,
          2007,
          2008,
          2009,
          2010,
          2011,
          2012,
          2013,
          2014,
          2015,
          2016,
          2017,
          2018,
          2019,
          2020,
          2021
         ],
         "xaxis": "x",
         "y": [
          6.2,
          8.1,
          8.3,
          7.9,
          8.2,
          8.1,
          8.2,
          8.1,
          7.2,
          7.566666666666666,
          8.025,
          7.38,
          7.616666666666667,
          7.557142857142857,
          7.32,
          7.88,
          7.5200000000000005,
          7.677777777777777,
          7.736363636363635,
          7.475,
          7.485714285714286,
          7.490909090909091,
          7.275,
          7.63,
          7.306666666666667,
          8.597596371882087,
          7.253333333333333,
          7.623076923076923,
          7.222222222222222,
          7.372727272727272,
          7.3999999999999995,
          7.375,
          7.371428571428572,
          7.599161568094266,
          7.455,
          7.181818181818182,
          7.269565217391304,
          7.108,
          7.194736842105263,
          7.392,
          7.25,
          7.58,
          7.316,
          7.230769230769231,
          7.192592592592592,
          6.76,
          7.128571428571429,
          6.9837837837837835,
          7.05,
          6.883333333333334,
          7.204081632653061,
          6.829268292682927,
          7.115094339622642,
          6.714285714285714,
          6.777777777777778,
          7.034146341463414,
          6.651063829787234,
          6.6408163265306115,
          6.915686274509803,
          6.6734375,
          6.581333333333333,
          6.53,
          7.8889064261555815,
          6.427777777777778,
          6.516363636363636,
          6.614583333333333,
          6.44949494949495,
          8.181662921348313,
          7.588719101123594,
          7.586713836477986,
          6.459595959595959,
          6.79758671006847,
          6.673983739837398,
          6.498857910648304,
          6.6,
          6.412878787878788,
          6.588976377952756,
          6.606617647058823,
          8.670652782443174,
          6.2039740288816745,
          6.4817073170731705,
          7.284714939194466,
          7.1466628959276015,
          7.284478343168912,
          6.378756476683938,
          6.42,
          6.207459207459207,
          6.389719626168224,
          6.39862385321101,
          6.401904761904762,
          6.405785123966942,
          6.886660757810769,
          6.455263157894737,
          6.593543064569354,
          6.280427046263345,
          6.317469879518073,
          7.353905654210698,
          6.200921658986175,
          7.334311197077155,
          5.954702495201536,
          7.211819956252576
         ],
         "yaxis": "y"
        }
       ],
       "layout": {
        "legend": {
         "tracegroupgap": 0
        },
        "margin": {
         "t": 60
        },
        "template": {
         "data": {
          "bar": [
           {
            "error_x": {
             "color": "#2a3f5f"
            },
            "error_y": {
             "color": "#2a3f5f"
            },
            "marker": {
             "line": {
              "color": "#E5ECF6",
              "width": 0.5
             },
             "pattern": {
              "fillmode": "overlay",
              "size": 10,
              "solidity": 0.2
             }
            },
            "type": "bar"
           }
          ],
          "barpolar": [
           {
            "marker": {
             "line": {
              "color": "#E5ECF6",
              "width": 0.5
             },
             "pattern": {
              "fillmode": "overlay",
              "size": 10,
              "solidity": 0.2
             }
            },
            "type": "barpolar"
           }
          ],
          "carpet": [
           {
            "aaxis": {
             "endlinecolor": "#2a3f5f",
             "gridcolor": "white",
             "linecolor": "white",
             "minorgridcolor": "white",
             "startlinecolor": "#2a3f5f"
            },
            "baxis": {
             "endlinecolor": "#2a3f5f",
             "gridcolor": "white",
             "linecolor": "white",
             "minorgridcolor": "white",
             "startlinecolor": "#2a3f5f"
            },
            "type": "carpet"
           }
          ],
          "choropleth": [
           {
            "colorbar": {
             "outlinewidth": 0,
             "ticks": ""
            },
            "type": "choropleth"
           }
          ],
          "contour": [
           {
            "colorbar": {
             "outlinewidth": 0,
             "ticks": ""
            },
            "colorscale": [
             [
              0,
              "#0d0887"
             ],
             [
              0.1111111111111111,
              "#46039f"
             ],
             [
              0.2222222222222222,
              "#7201a8"
             ],
             [
              0.3333333333333333,
              "#9c179e"
             ],
             [
              0.4444444444444444,
              "#bd3786"
             ],
             [
              0.5555555555555556,
              "#d8576b"
             ],
             [
              0.6666666666666666,
              "#ed7953"
             ],
             [
              0.7777777777777778,
              "#fb9f3a"
             ],
             [
              0.8888888888888888,
              "#fdca26"
             ],
             [
              1,
              "#f0f921"
             ]
            ],
            "type": "contour"
           }
          ],
          "contourcarpet": [
           {
            "colorbar": {
             "outlinewidth": 0,
             "ticks": ""
            },
            "type": "contourcarpet"
           }
          ],
          "heatmap": [
           {
            "colorbar": {
             "outlinewidth": 0,
             "ticks": ""
            },
            "colorscale": [
             [
              0,
              "#0d0887"
             ],
             [
              0.1111111111111111,
              "#46039f"
             ],
             [
              0.2222222222222222,
              "#7201a8"
             ],
             [
              0.3333333333333333,
              "#9c179e"
             ],
             [
              0.4444444444444444,
              "#bd3786"
             ],
             [
              0.5555555555555556,
              "#d8576b"
             ],
             [
              0.6666666666666666,
              "#ed7953"
             ],
             [
              0.7777777777777778,
              "#fb9f3a"
             ],
             [
              0.8888888888888888,
              "#fdca26"
             ],
             [
              1,
              "#f0f921"
             ]
            ],
            "type": "heatmap"
           }
          ],
          "heatmapgl": [
           {
            "colorbar": {
             "outlinewidth": 0,
             "ticks": ""
            },
            "colorscale": [
             [
              0,
              "#0d0887"
             ],
             [
              0.1111111111111111,
              "#46039f"
             ],
             [
              0.2222222222222222,
              "#7201a8"
             ],
             [
              0.3333333333333333,
              "#9c179e"
             ],
             [
              0.4444444444444444,
              "#bd3786"
             ],
             [
              0.5555555555555556,
              "#d8576b"
             ],
             [
              0.6666666666666666,
              "#ed7953"
             ],
             [
              0.7777777777777778,
              "#fb9f3a"
             ],
             [
              0.8888888888888888,
              "#fdca26"
             ],
             [
              1,
              "#f0f921"
             ]
            ],
            "type": "heatmapgl"
           }
          ],
          "histogram": [
           {
            "marker": {
             "pattern": {
              "fillmode": "overlay",
              "size": 10,
              "solidity": 0.2
             }
            },
            "type": "histogram"
           }
          ],
          "histogram2d": [
           {
            "colorbar": {
             "outlinewidth": 0,
             "ticks": ""
            },
            "colorscale": [
             [
              0,
              "#0d0887"
             ],
             [
              0.1111111111111111,
              "#46039f"
             ],
             [
              0.2222222222222222,
              "#7201a8"
             ],
             [
              0.3333333333333333,
              "#9c179e"
             ],
             [
              0.4444444444444444,
              "#bd3786"
             ],
             [
              0.5555555555555556,
              "#d8576b"
             ],
             [
              0.6666666666666666,
              "#ed7953"
             ],
             [
              0.7777777777777778,
              "#fb9f3a"
             ],
             [
              0.8888888888888888,
              "#fdca26"
             ],
             [
              1,
              "#f0f921"
             ]
            ],
            "type": "histogram2d"
           }
          ],
          "histogram2dcontour": [
           {
            "colorbar": {
             "outlinewidth": 0,
             "ticks": ""
            },
            "colorscale": [
             [
              0,
              "#0d0887"
             ],
             [
              0.1111111111111111,
              "#46039f"
             ],
             [
              0.2222222222222222,
              "#7201a8"
             ],
             [
              0.3333333333333333,
              "#9c179e"
             ],
             [
              0.4444444444444444,
              "#bd3786"
             ],
             [
              0.5555555555555556,
              "#d8576b"
             ],
             [
              0.6666666666666666,
              "#ed7953"
             ],
             [
              0.7777777777777778,
              "#fb9f3a"
             ],
             [
              0.8888888888888888,
              "#fdca26"
             ],
             [
              1,
              "#f0f921"
             ]
            ],
            "type": "histogram2dcontour"
           }
          ],
          "mesh3d": [
           {
            "colorbar": {
             "outlinewidth": 0,
             "ticks": ""
            },
            "type": "mesh3d"
           }
          ],
          "parcoords": [
           {
            "line": {
             "colorbar": {
              "outlinewidth": 0,
              "ticks": ""
             }
            },
            "type": "parcoords"
           }
          ],
          "pie": [
           {
            "automargin": true,
            "type": "pie"
           }
          ],
          "scatter": [
           {
            "marker": {
             "colorbar": {
              "outlinewidth": 0,
              "ticks": ""
             }
            },
            "type": "scatter"
           }
          ],
          "scatter3d": [
           {
            "line": {
             "colorbar": {
              "outlinewidth": 0,
              "ticks": ""
             }
            },
            "marker": {
             "colorbar": {
              "outlinewidth": 0,
              "ticks": ""
             }
            },
            "type": "scatter3d"
           }
          ],
          "scattercarpet": [
           {
            "marker": {
             "colorbar": {
              "outlinewidth": 0,
              "ticks": ""
             }
            },
            "type": "scattercarpet"
           }
          ],
          "scattergeo": [
           {
            "marker": {
             "colorbar": {
              "outlinewidth": 0,
              "ticks": ""
             }
            },
            "type": "scattergeo"
           }
          ],
          "scattergl": [
           {
            "marker": {
             "colorbar": {
              "outlinewidth": 0,
              "ticks": ""
             }
            },
            "type": "scattergl"
           }
          ],
          "scattermapbox": [
           {
            "marker": {
             "colorbar": {
              "outlinewidth": 0,
              "ticks": ""
             }
            },
            "type": "scattermapbox"
           }
          ],
          "scatterpolar": [
           {
            "marker": {
             "colorbar": {
              "outlinewidth": 0,
              "ticks": ""
             }
            },
            "type": "scatterpolar"
           }
          ],
          "scatterpolargl": [
           {
            "marker": {
             "colorbar": {
              "outlinewidth": 0,
              "ticks": ""
             }
            },
            "type": "scatterpolargl"
           }
          ],
          "scatterternary": [
           {
            "marker": {
             "colorbar": {
              "outlinewidth": 0,
              "ticks": ""
             }
            },
            "type": "scatterternary"
           }
          ],
          "surface": [
           {
            "colorbar": {
             "outlinewidth": 0,
             "ticks": ""
            },
            "colorscale": [
             [
              0,
              "#0d0887"
             ],
             [
              0.1111111111111111,
              "#46039f"
             ],
             [
              0.2222222222222222,
              "#7201a8"
             ],
             [
              0.3333333333333333,
              "#9c179e"
             ],
             [
              0.4444444444444444,
              "#bd3786"
             ],
             [
              0.5555555555555556,
              "#d8576b"
             ],
             [
              0.6666666666666666,
              "#ed7953"
             ],
             [
              0.7777777777777778,
              "#fb9f3a"
             ],
             [
              0.8888888888888888,
              "#fdca26"
             ],
             [
              1,
              "#f0f921"
             ]
            ],
            "type": "surface"
           }
          ],
          "table": [
           {
            "cells": {
             "fill": {
              "color": "#EBF0F8"
             },
             "line": {
              "color": "white"
             }
            },
            "header": {
             "fill": {
              "color": "#C8D4E3"
             },
             "line": {
              "color": "white"
             }
            },
            "type": "table"
           }
          ]
         },
         "layout": {
          "annotationdefaults": {
           "arrowcolor": "#2a3f5f",
           "arrowhead": 0,
           "arrowwidth": 1
          },
          "autotypenumbers": "strict",
          "coloraxis": {
           "colorbar": {
            "outlinewidth": 0,
            "ticks": ""
           }
          },
          "colorscale": {
           "diverging": [
            [
             0,
             "#8e0152"
            ],
            [
             0.1,
             "#c51b7d"
            ],
            [
             0.2,
             "#de77ae"
            ],
            [
             0.3,
             "#f1b6da"
            ],
            [
             0.4,
             "#fde0ef"
            ],
            [
             0.5,
             "#f7f7f7"
            ],
            [
             0.6,
             "#e6f5d0"
            ],
            [
             0.7,
             "#b8e186"
            ],
            [
             0.8,
             "#7fbc41"
            ],
            [
             0.9,
             "#4d9221"
            ],
            [
             1,
             "#276419"
            ]
           ],
           "sequential": [
            [
             0,
             "#0d0887"
            ],
            [
             0.1111111111111111,
             "#46039f"
            ],
            [
             0.2222222222222222,
             "#7201a8"
            ],
            [
             0.3333333333333333,
             "#9c179e"
            ],
            [
             0.4444444444444444,
             "#bd3786"
            ],
            [
             0.5555555555555556,
             "#d8576b"
            ],
            [
             0.6666666666666666,
             "#ed7953"
            ],
            [
             0.7777777777777778,
             "#fb9f3a"
            ],
            [
             0.8888888888888888,
             "#fdca26"
            ],
            [
             1,
             "#f0f921"
            ]
           ],
           "sequentialminus": [
            [
             0,
             "#0d0887"
            ],
            [
             0.1111111111111111,
             "#46039f"
            ],
            [
             0.2222222222222222,
             "#7201a8"
            ],
            [
             0.3333333333333333,
             "#9c179e"
            ],
            [
             0.4444444444444444,
             "#bd3786"
            ],
            [
             0.5555555555555556,
             "#d8576b"
            ],
            [
             0.6666666666666666,
             "#ed7953"
            ],
            [
             0.7777777777777778,
             "#fb9f3a"
            ],
            [
             0.8888888888888888,
             "#fdca26"
            ],
            [
             1,
             "#f0f921"
            ]
           ]
          },
          "colorway": [
           "#636efa",
           "#EF553B",
           "#00cc96",
           "#ab63fa",
           "#FFA15A",
           "#19d3f3",
           "#FF6692",
           "#B6E880",
           "#FF97FF",
           "#FECB52"
          ],
          "font": {
           "color": "#2a3f5f"
          },
          "geo": {
           "bgcolor": "white",
           "lakecolor": "white",
           "landcolor": "#E5ECF6",
           "showlakes": true,
           "showland": true,
           "subunitcolor": "white"
          },
          "hoverlabel": {
           "align": "left"
          },
          "hovermode": "closest",
          "mapbox": {
           "style": "light"
          },
          "paper_bgcolor": "white",
          "plot_bgcolor": "#E5ECF6",
          "polar": {
           "angularaxis": {
            "gridcolor": "white",
            "linecolor": "white",
            "ticks": ""
           },
           "bgcolor": "#E5ECF6",
           "radialaxis": {
            "gridcolor": "white",
            "linecolor": "white",
            "ticks": ""
           }
          },
          "scene": {
           "xaxis": {
            "backgroundcolor": "#E5ECF6",
            "gridcolor": "white",
            "gridwidth": 2,
            "linecolor": "white",
            "showbackground": true,
            "ticks": "",
            "zerolinecolor": "white"
           },
           "yaxis": {
            "backgroundcolor": "#E5ECF6",
            "gridcolor": "white",
            "gridwidth": 2,
            "linecolor": "white",
            "showbackground": true,
            "ticks": "",
            "zerolinecolor": "white"
           },
           "zaxis": {
            "backgroundcolor": "#E5ECF6",
            "gridcolor": "white",
            "gridwidth": 2,
            "linecolor": "white",
            "showbackground": true,
            "ticks": "",
            "zerolinecolor": "white"
           }
          },
          "shapedefaults": {
           "line": {
            "color": "#2a3f5f"
           }
          },
          "ternary": {
           "aaxis": {
            "gridcolor": "white",
            "linecolor": "white",
            "ticks": ""
           },
           "baxis": {
            "gridcolor": "white",
            "linecolor": "white",
            "ticks": ""
           },
           "bgcolor": "#E5ECF6",
           "caxis": {
            "gridcolor": "white",
            "linecolor": "white",
            "ticks": ""
           }
          },
          "title": {
           "x": 0.05
          },
          "xaxis": {
           "automargin": true,
           "gridcolor": "white",
           "linecolor": "white",
           "ticks": "",
           "title": {
            "standoff": 15
           },
           "zerolinecolor": "white",
           "zerolinewidth": 2
          },
          "yaxis": {
           "automargin": true,
           "gridcolor": "white",
           "linecolor": "white",
           "ticks": "",
           "title": {
            "standoff": 15
           },
           "zerolinecolor": "white",
           "zerolinewidth": 2
          }
         }
        },
        "xaxis": {
         "anchor": "y",
         "domain": [
          0,
          1
         ],
         "title": {
          "text": "year"
         }
        },
        "yaxis": {
         "anchor": "x",
         "domain": [
          0,
          1
         ],
         "title": {
          "text": "IMDB_rating"
         }
        }
       }
      }
     },
     "metadata": {},
     "output_type": "display_data"
    }
   ],
   "source": [
    "\n",
    "graph_df = new_df.groupby('year').mean().reset_index()\n",
    "\n",
    "graph_df.head()\n",
    "\n",
    "px.scatter(graph_df, x = \"year\", y = \"IMDB_rating\")"
   ]
  }
 ],
 "metadata": {
  "interpreter": {
   "hash": "572abceb2d6b23b7235785a79595d12e9385d2f545efe1bb06a370c7eb6eeb2f"
  },
  "kernelspec": {
   "display_name": "Python 3.9.7 64-bit ('base': conda)",
   "language": "python",
   "name": "python3"
  },
  "language_info": {
   "codemirror_mode": {
    "name": "ipython",
    "version": 3
   },
   "file_extension": ".py",
   "mimetype": "text/x-python",
   "name": "python",
   "nbconvert_exporter": "python",
   "pygments_lexer": "ipython3",
   "version": "3.9.7"
  }
 },
 "nbformat": 4,
 "nbformat_minor": 5
}
